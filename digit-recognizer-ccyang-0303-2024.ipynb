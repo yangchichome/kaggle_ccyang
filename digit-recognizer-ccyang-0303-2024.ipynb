{
 "cells": [
  {
   "cell_type": "code",
   "execution_count": 1,
   "id": "5be9810e",
   "metadata": {
    "_cell_guid": "b1076dfc-b9ad-4769-8c92-a6c4dae69d19",
    "_uuid": "8f2839f25d086af736a60e9eeb907d3b93b6e0e5",
    "execution": {
     "iopub.execute_input": "2024-03-09T03:46:47.280269Z",
     "iopub.status.busy": "2024-03-09T03:46:47.279413Z",
     "iopub.status.idle": "2024-03-09T03:46:48.324273Z",
     "shell.execute_reply": "2024-03-09T03:46:48.322646Z"
    },
    "papermill": {
     "duration": 1.056387,
     "end_time": "2024-03-09T03:46:48.327520",
     "exception": false,
     "start_time": "2024-03-09T03:46:47.271133",
     "status": "completed"
    },
    "tags": []
   },
   "outputs": [
    {
     "name": "stdout",
     "output_type": "stream",
     "text": [
      "/kaggle/input/digit-recognizer/sample_submission.csv\n",
      "/kaggle/input/digit-recognizer/train.csv\n",
      "/kaggle/input/digit-recognizer/test.csv\n"
     ]
    }
   ],
   "source": [
    "# This Python 3 environment comes with many helpful analytics libraries installed\n",
    "# It is defined by the kaggle/python Docker image: https://github.com/kaggle/docker-python\n",
    "# For example, here's several helpful packages to load\n",
    "\n",
    "import numpy as np # linear algebra\n",
    "import pandas as pd # data processing, CSV file I/O (e.g. pd.read_csv)\n",
    "\n",
    "# Input data files are available in the read-only \"../input/\" directory\n",
    "# For example, running this (by clicking run or pressing Shift+Enter) will list all files under the input directory\n",
    "\n",
    "import os\n",
    "for dirname, _, filenames in os.walk('/kaggle/input'):\n",
    "    for filename in filenames:\n",
    "        print(os.path.join(dirname, filename))\n",
    "\n",
    "# You can write up to 20GB to the current directory (/kaggle/working/) that gets preserved as output when you create a version using \"Save & Run All\" \n",
    "# You can also write temporary files to /kaggle/temp/, but they won't be saved outside of the current session"
   ]
  },
  {
   "cell_type": "code",
   "execution_count": 2,
   "id": "0fd17d03",
   "metadata": {
    "execution": {
     "iopub.execute_input": "2024-03-09T03:46:48.341986Z",
     "iopub.status.busy": "2024-03-09T03:46:48.341273Z",
     "iopub.status.idle": "2024-03-09T03:47:04.706723Z",
     "shell.execute_reply": "2024-03-09T03:47:04.705362Z"
    },
    "papermill": {
     "duration": 16.376486,
     "end_time": "2024-03-09T03:47:04.710286",
     "exception": false,
     "start_time": "2024-03-09T03:46:48.333800",
     "status": "completed"
    },
    "tags": []
   },
   "outputs": [
    {
     "name": "stderr",
     "output_type": "stream",
     "text": [
      "2024-03-09 03:46:50.818852: E external/local_xla/xla/stream_executor/cuda/cuda_dnn.cc:9261] Unable to register cuDNN factory: Attempting to register factory for plugin cuDNN when one has already been registered\n",
      "2024-03-09 03:46:50.819010: E external/local_xla/xla/stream_executor/cuda/cuda_fft.cc:607] Unable to register cuFFT factory: Attempting to register factory for plugin cuFFT when one has already been registered\n",
      "2024-03-09 03:46:50.986438: E external/local_xla/xla/stream_executor/cuda/cuda_blas.cc:1515] Unable to register cuBLAS factory: Attempting to register factory for plugin cuBLAS when one has already been registered\n"
     ]
    }
   ],
   "source": [
    "import numpy as np # linear algebra\n",
    "import pandas as pd # data processing, CSV file I/O (e.g. pd.read_csv)\n",
    "\n",
    "import matplotlib.pyplot as plt\n",
    "%matplotlib inline\n",
    "\n",
    "from keras.models import Sequential\n",
    "from keras.layers import Dense , Dropout , Lambda, Flatten\n",
    "from keras.optimizers import Adam ,RMSprop\n",
    "from sklearn.model_selection import train_test_split\n",
    "#from keras import  backend as K\n",
    "from tensorflow.keras.preprocessing.image import ImageDataGenerator\n",
    "\n",
    "# Any results you write to the current directory are saved as output."
   ]
  },
  {
   "cell_type": "code",
   "execution_count": 3,
   "id": "34e84ffc",
   "metadata": {
    "execution": {
     "iopub.execute_input": "2024-03-09T03:47:04.727773Z",
     "iopub.status.busy": "2024-03-09T03:47:04.726520Z",
     "iopub.status.idle": "2024-03-09T03:47:11.748458Z",
     "shell.execute_reply": "2024-03-09T03:47:11.746853Z"
    },
    "papermill": {
     "duration": 7.033256,
     "end_time": "2024-03-09T03:47:11.751762",
     "exception": false,
     "start_time": "2024-03-09T03:47:04.718506",
     "status": "completed"
    },
    "tags": []
   },
   "outputs": [],
   "source": [
    "#Step 1 :  (Data Preprocessing/Feature Extraction) \n",
    "train = pd.read_csv(\"/kaggle/input/digit-recognizer/train.csv\")\n",
    "test = pd.read_csv(\"/kaggle/input/digit-recognizer/test.csv\")"
   ]
  },
  {
   "cell_type": "code",
   "execution_count": 4,
   "id": "3ab6ea00",
   "metadata": {
    "execution": {
     "iopub.execute_input": "2024-03-09T03:47:11.766765Z",
     "iopub.status.busy": "2024-03-09T03:47:11.766283Z",
     "iopub.status.idle": "2024-03-09T03:47:11.956591Z",
     "shell.execute_reply": "2024-03-09T03:47:11.955057Z"
    },
    "papermill": {
     "duration": 0.201768,
     "end_time": "2024-03-09T03:47:11.959813",
     "exception": false,
     "start_time": "2024-03-09T03:47:11.758045",
     "status": "completed"
    },
    "tags": []
   },
   "outputs": [],
   "source": [
    "#Step 1 :  (Data Preprocessing/Feature Extraction) \n",
    "X_train = (train.iloc[:,1:].values).astype('float32') # all pixel values\n",
    "y_train = train.iloc[:,0].values.astype('int32') # only labels i.e targets digits \n",
    "X_test = test.values.astype('float32')"
   ]
  },
  {
   "cell_type": "code",
   "execution_count": 5,
   "id": "b9c23203",
   "metadata": {
    "execution": {
     "iopub.execute_input": "2024-03-09T03:47:11.974851Z",
     "iopub.status.busy": "2024-03-09T03:47:11.974297Z",
     "iopub.status.idle": "2024-03-09T03:47:12.046132Z",
     "shell.execute_reply": "2024-03-09T03:47:12.044867Z"
    },
    "papermill": {
     "duration": 0.082867,
     "end_time": "2024-03-09T03:47:12.049024",
     "exception": false,
     "start_time": "2024-03-09T03:47:11.966157",
     "status": "completed"
    },
    "tags": []
   },
   "outputs": [
    {
     "name": "stdout",
     "output_type": "stream",
     "text": [
      "<class 'pandas.core.frame.DataFrame'>\n",
      "RangeIndex: 42000 entries, 0 to 41999\n",
      "Columns: 785 entries, label to pixel783\n",
      "dtypes: int64(785)\n",
      "memory usage: 251.5 MB\n"
     ]
    }
   ],
   "source": [
    "train.info()"
   ]
  },
  {
   "cell_type": "code",
   "execution_count": 6,
   "id": "041ece40",
   "metadata": {
    "execution": {
     "iopub.execute_input": "2024-03-09T03:47:12.065260Z",
     "iopub.status.busy": "2024-03-09T03:47:12.064700Z",
     "iopub.status.idle": "2024-03-09T03:47:12.075885Z",
     "shell.execute_reply": "2024-03-09T03:47:12.074375Z"
    },
    "papermill": {
     "duration": 0.023645,
     "end_time": "2024-03-09T03:47:12.079245",
     "exception": false,
     "start_time": "2024-03-09T03:47:12.055600",
     "status": "completed"
    },
    "tags": []
   },
   "outputs": [
    {
     "data": {
      "text/plain": [
       "(28000, 28, 28, 1)"
      ]
     },
     "execution_count": 6,
     "metadata": {},
     "output_type": "execute_result"
    }
   ],
   "source": [
    "#Step 1 :  (Data Preprocessing/Feature Extraction) \n",
    "#expand 1 more dimention as 1 for colour channel gray (3 dimention)\n",
    "X_train = X_train.reshape(X_train.shape[0], 28, 28,1)\n",
    "X_train.shape\n",
    "X_test = X_test.reshape(X_test.shape[0], 28, 28,1)\n",
    "X_test.shape\n"
   ]
  },
  {
   "cell_type": "code",
   "execution_count": 7,
   "id": "74dbb1b2",
   "metadata": {
    "execution": {
     "iopub.execute_input": "2024-03-09T03:47:12.095756Z",
     "iopub.status.busy": "2024-03-09T03:47:12.095223Z",
     "iopub.status.idle": "2024-03-09T03:47:12.270987Z",
     "shell.execute_reply": "2024-03-09T03:47:12.269605Z"
    },
    "papermill": {
     "duration": 0.187639,
     "end_time": "2024-03-09T03:47:12.274220",
     "exception": false,
     "start_time": "2024-03-09T03:47:12.086581",
     "status": "completed"
    },
    "tags": []
   },
   "outputs": [],
   "source": [
    "#Step 1 :  (Data Preprocessing/Feature Extraction) \n",
    "#calculate means for X_train\n",
    "mean_px = X_train.mean().astype(np.float32)\n",
    "#calculate std for X_train\n",
    "std_px = X_train.std().astype(np.float32)\n",
    "\n",
    "#standardize input data\n",
    "def standardize(x):\n",
    "    return (x-mean_px)/std_px"
   ]
  },
  {
   "cell_type": "code",
   "execution_count": 8,
   "id": "c3d9c561",
   "metadata": {
    "execution": {
     "iopub.execute_input": "2024-03-09T03:47:12.290021Z",
     "iopub.status.busy": "2024-03-09T03:47:12.289475Z",
     "iopub.status.idle": "2024-03-09T03:47:12.479712Z",
     "shell.execute_reply": "2024-03-09T03:47:12.478672Z"
    },
    "papermill": {
     "duration": 0.201593,
     "end_time": "2024-03-09T03:47:12.482657",
     "exception": false,
     "start_time": "2024-03-09T03:47:12.281064",
     "status": "completed"
    },
    "tags": []
   },
   "outputs": [],
   "source": [
    "#Step 1 :  (Data Preprocessing/Feature Extraction) -- Lambda \n",
    "#Step 2 :  Classification --Conv2D,MaxPooling2D,Flatten,Dense\n",
    "#Step 8 :  Ensemble -- Dropout\n",
    "\n",
    "from tensorflow.keras.models import Sequential\n",
    "from tensorflow.keras.layers import Input, Lambda, Conv2D, BatchNormalization, MaxPooling2D, Flatten, Dense, Dropout\n",
    "\n",
    "# Define your standardize function somewhere above this code.\n",
    "# It should take an input tensor and return a standardized tensor,\n",
    "# typically by subtracting the mean and dividing by the standard deviation.\n",
    "\n",
    "model = Sequential([\n",
    "    Input(shape=(28, 28, 1)),  # Input layer\n",
    "    Lambda(standardize),  # Make sure `standardize` is defined\n",
    "    Conv2D(filters=32, kernel_size=3, activation='relu', padding='same'),\n",
    "    BatchNormalization(axis=1),\n",
    "    Conv2D(filters=64, kernel_size=3, activation='relu', padding='same'),\n",
    "    MaxPooling2D(padding='same'),\n",
    "    BatchNormalization(axis=1),\n",
    "    Conv2D(filters=64, kernel_size=3, activation='relu', padding='same'),\n",
    "    Flatten(),\n",
    "    Dense(128, activation='relu'),\n",
    "    Dropout(0.2),\n",
    "    Dense(10, activation='softmax')  # Last layer has 10 units for 10 classes\n",
    "])"
   ]
  },
  {
   "cell_type": "code",
   "execution_count": 9,
   "id": "8b501cbd",
   "metadata": {
    "execution": {
     "iopub.execute_input": "2024-03-09T03:47:12.498310Z",
     "iopub.status.busy": "2024-03-09T03:47:12.497318Z",
     "iopub.status.idle": "2024-03-09T03:47:12.517148Z",
     "shell.execute_reply": "2024-03-09T03:47:12.515764Z"
    },
    "papermill": {
     "duration": 0.030663,
     "end_time": "2024-03-09T03:47:12.520000",
     "exception": false,
     "start_time": "2024-03-09T03:47:12.489337",
     "status": "completed"
    },
    "tags": []
   },
   "outputs": [],
   "source": [
    "#Step 2 :  Classification -- categorical_crossentropy \n",
    "#Step 3 :  Regression -- accuracy \n",
    "\n",
    "from tensorflow.keras.optimizers import RMSprop\n",
    "\n",
    "#optimizer=RMSprop(lr=0.001): RMSprop is an optimization algorithm\n",
    "#loss='categorical_crossentropy': This specifies the loss function to use during training. \n",
    "#metrics=['accuracy']: This parameter defines the evaluation metric(s) to be used during training,In this case, it's set to 'accuracy', \n",
    "#which computes the accuracy of the model's predictions compared to the true labels. (high level model performance)\n",
    "\n",
    "model.compile(optimizer=RMSprop(learning_rate=0.001),\n",
    "              loss='categorical_crossentropy',\n",
    "              metrics=['accuracy'])\n"
   ]
  },
  {
   "cell_type": "code",
   "execution_count": 10,
   "id": "6900407e",
   "metadata": {
    "execution": {
     "iopub.execute_input": "2024-03-09T03:47:12.534824Z",
     "iopub.status.busy": "2024-03-09T03:47:12.534359Z",
     "iopub.status.idle": "2024-03-09T03:47:12.543669Z",
     "shell.execute_reply": "2024-03-09T03:47:12.542649Z"
    },
    "papermill": {
     "duration": 0.019834,
     "end_time": "2024-03-09T03:47:12.546430",
     "exception": false,
     "start_time": "2024-03-09T03:47:12.526596",
     "status": "completed"
    },
    "tags": []
   },
   "outputs": [],
   "source": [
    "#Step 1 :  (Data Preprocessing/Feature Extraction) --one-hot\n",
    "#Step 2 :  Classification -- one-hot\n",
    "\n",
    "#convert train data to ont-hot format\n",
    "from tensorflow.keras.utils import to_categorical\n",
    "y_train= to_categorical(y_train)\n"
   ]
  },
  {
   "cell_type": "code",
   "execution_count": 11,
   "id": "6a88ee8e",
   "metadata": {
    "execution": {
     "iopub.execute_input": "2024-03-09T03:47:12.561573Z",
     "iopub.status.busy": "2024-03-09T03:47:12.561124Z",
     "iopub.status.idle": "2024-03-09T03:47:12.967571Z",
     "shell.execute_reply": "2024-03-09T03:47:12.966275Z"
    },
    "papermill": {
     "duration": 0.417676,
     "end_time": "2024-03-09T03:47:12.970680",
     "exception": false,
     "start_time": "2024-03-09T03:47:12.553004",
     "status": "completed"
    },
    "tags": []
   },
   "outputs": [],
   "source": [
    "#Step 1 :  (Data Preprocessing/Feature Extraction) \n",
    "\n",
    "#split datd to train/val\n",
    "from sklearn.model_selection import train_test_split\n",
    "X = X_train\n",
    "y = y_train\n",
    "X_train, X_val, y_train, y_val = train_test_split(X_train, y_train, test_size=0.10, random_state=42)"
   ]
  },
  {
   "cell_type": "code",
   "execution_count": 12,
   "id": "a70299b9",
   "metadata": {
    "execution": {
     "iopub.execute_input": "2024-03-09T03:47:12.986489Z",
     "iopub.status.busy": "2024-03-09T03:47:12.985967Z",
     "iopub.status.idle": "2024-03-09T03:47:12.993677Z",
     "shell.execute_reply": "2024-03-09T03:47:12.992319Z"
    },
    "papermill": {
     "duration": 0.018298,
     "end_time": "2024-03-09T03:47:12.996160",
     "exception": false,
     "start_time": "2024-03-09T03:47:12.977862",
     "status": "completed"
    },
    "tags": []
   },
   "outputs": [
    {
     "data": {
      "text/plain": [
       "(37800, 28, 28, 1)"
      ]
     },
     "execution_count": 12,
     "metadata": {},
     "output_type": "execute_result"
    }
   ],
   "source": [
    "X_train.shape"
   ]
  },
  {
   "cell_type": "code",
   "execution_count": 13,
   "id": "fcdd803f",
   "metadata": {
    "execution": {
     "iopub.execute_input": "2024-03-09T03:47:13.012183Z",
     "iopub.status.busy": "2024-03-09T03:47:13.011751Z",
     "iopub.status.idle": "2024-03-09T03:47:13.018253Z",
     "shell.execute_reply": "2024-03-09T03:47:13.016942Z"
    },
    "papermill": {
     "duration": 0.01757,
     "end_time": "2024-03-09T03:47:13.020700",
     "exception": false,
     "start_time": "2024-03-09T03:47:13.003130",
     "status": "completed"
    },
    "tags": []
   },
   "outputs": [],
   "source": [
    "#Step 1 :  (Data Preprocessing/Feature Extraction) \n",
    "\n",
    "#purpose generate more data for AI training.\n",
    "#ImageDataGenerator: This class is used for generating batches of augmented data.\n",
    "#batches: This is a generator object that yields batches of augmented data. specifies the batch size (64 in this case).\n",
    "\n",
    "gen =ImageDataGenerator(rotation_range=8, width_shift_range=0.08, shear_range=0.3,\n",
    "                               height_shift_range=0.08, zoom_range=0.08)\n",
    "batches = gen.flow(X_train, y_train, batch_size=64)\n",
    "val_batches = gen.flow(X_val, y_val, batch_size=64)"
   ]
  },
  {
   "cell_type": "code",
   "execution_count": 14,
   "id": "cd051942",
   "metadata": {
    "execution": {
     "iopub.execute_input": "2024-03-09T03:47:13.036578Z",
     "iopub.status.busy": "2024-03-09T03:47:13.036178Z",
     "iopub.status.idle": "2024-03-09T05:26:44.125435Z",
     "shell.execute_reply": "2024-03-09T05:26:44.123806Z"
    },
    "papermill": {
     "duration": 5971.10042,
     "end_time": "2024-03-09T05:26:44.128247",
     "exception": false,
     "start_time": "2024-03-09T03:47:13.027827",
     "status": "completed"
    },
    "tags": []
   },
   "outputs": [
    {
     "name": "stdout",
     "output_type": "stream",
     "text": [
      "Epoch 1/50\n"
     ]
    },
    {
     "name": "stderr",
     "output_type": "stream",
     "text": [
      "/opt/conda/lib/python3.10/site-packages/keras/src/trainers/data_adapters/py_dataset_adapter.py:122: UserWarning: Your `PyDataset` class should call `super().__init__(**kwargs)` in its constructor. `**kwargs` can include `workers`, `use_multiprocessing`, `max_queue_size`. Do not pass these arguments to `fit()`, as they will be ignored.\n",
      "  self._warn_if_super_not_called()\n"
     ]
    },
    {
     "name": "stdout",
     "output_type": "stream",
     "text": [
      "\u001b[1m  591/37800\u001b[0m \u001b[37m━━━━━━━━━━━━━━━━━━━━\u001b[0m \u001b[1m1:38:01\u001b[0m 158ms/step - accuracy: 0.8243 - loss: 0.7697"
     ]
    },
    {
     "name": "stderr",
     "output_type": "stream",
     "text": [
      "/opt/conda/lib/python3.10/contextlib.py:153: UserWarning: Your input ran out of data; interrupting training. Make sure that your dataset or generator can generate at least `steps_per_epoch * epochs` batches. You may need to use the `.repeat()` function when building your dataset.\n",
      "  self.gen.throw(typ, value, traceback)\n"
     ]
    },
    {
     "name": "stdout",
     "output_type": "stream",
     "text": [
      "\u001b[1m37800/37800\u001b[0m \u001b[32m━━━━━━━━━━━━━━━━━━━━\u001b[0m\u001b[37m\u001b[0m \u001b[1m101s\u001b[0m 3ms/step - accuracy: 0.9194 - loss: 0.2984 - val_accuracy: 0.9745 - val_loss: 0.0772\n",
      "Epoch 2/50\n",
      "\u001b[1m37800/37800\u001b[0m \u001b[32m━━━━━━━━━━━━━━━━━━━━\u001b[0m\u001b[37m\u001b[0m \u001b[1m96s\u001b[0m 3ms/step - accuracy: 0.9746 - loss: 0.0890 - val_accuracy: 0.9781 - val_loss: 0.0718\n",
      "Epoch 3/50\n",
      "\u001b[1m37800/37800\u001b[0m \u001b[32m━━━━━━━━━━━━━━━━━━━━\u001b[0m\u001b[37m\u001b[0m \u001b[1m98s\u001b[0m 3ms/step - accuracy: 0.9802 - loss: 0.0691 - val_accuracy: 0.9795 - val_loss: 0.0822\n",
      "Epoch 4/50\n",
      "\u001b[1m37800/37800\u001b[0m \u001b[32m━━━━━━━━━━━━━━━━━━━━\u001b[0m\u001b[37m\u001b[0m \u001b[1m140s\u001b[0m 3ms/step - accuracy: 0.9832 - loss: 0.0597 - val_accuracy: 0.9855 - val_loss: 0.0573\n",
      "Epoch 5/50\n",
      "\u001b[1m37800/37800\u001b[0m \u001b[32m━━━━━━━━━━━━━━━━━━━━\u001b[0m\u001b[37m\u001b[0m \u001b[1m142s\u001b[0m 3ms/step - accuracy: 0.9833 - loss: 0.0584 - val_accuracy: 0.9898 - val_loss: 0.0373\n",
      "Epoch 6/50\n",
      "\u001b[1m37800/37800\u001b[0m \u001b[32m━━━━━━━━━━━━━━━━━━━━\u001b[0m\u001b[37m\u001b[0m \u001b[1m142s\u001b[0m 3ms/step - accuracy: 0.9854 - loss: 0.0500 - val_accuracy: 0.9874 - val_loss: 0.0416\n",
      "Epoch 7/50\n",
      "\u001b[1m37800/37800\u001b[0m \u001b[32m━━━━━━━━━━━━━━━━━━━━\u001b[0m\u001b[37m\u001b[0m \u001b[1m144s\u001b[0m 3ms/step - accuracy: 0.9866 - loss: 0.0489 - val_accuracy: 0.9869 - val_loss: 0.0502\n",
      "Epoch 8/50\n",
      "\u001b[1m37800/37800\u001b[0m \u001b[32m━━━━━━━━━━━━━━━━━━━━\u001b[0m\u001b[37m\u001b[0m \u001b[1m142s\u001b[0m 3ms/step - accuracy: 0.9869 - loss: 0.0483 - val_accuracy: 0.9848 - val_loss: 0.0436\n",
      "Epoch 9/50\n",
      "\u001b[1m37800/37800\u001b[0m \u001b[32m━━━━━━━━━━━━━━━━━━━━\u001b[0m\u001b[37m\u001b[0m \u001b[1m96s\u001b[0m 3ms/step - accuracy: 0.9872 - loss: 0.0459 - val_accuracy: 0.9864 - val_loss: 0.0508\n",
      "Epoch 10/50\n",
      "\u001b[1m37800/37800\u001b[0m \u001b[32m━━━━━━━━━━━━━━━━━━━━\u001b[0m\u001b[37m\u001b[0m \u001b[1m96s\u001b[0m 3ms/step - accuracy: 0.9874 - loss: 0.0475 - val_accuracy: 0.9869 - val_loss: 0.0408\n",
      "Epoch 11/50\n",
      "\u001b[1m37800/37800\u001b[0m \u001b[32m━━━━━━━━━━━━━━━━━━━━\u001b[0m\u001b[37m\u001b[0m \u001b[1m99s\u001b[0m 3ms/step - accuracy: 0.9877 - loss: 0.0436 - val_accuracy: 0.9919 - val_loss: 0.0272\n",
      "Epoch 12/50\n",
      "\u001b[1m37800/37800\u001b[0m \u001b[32m━━━━━━━━━━━━━━━━━━━━\u001b[0m\u001b[37m\u001b[0m \u001b[1m140s\u001b[0m 3ms/step - accuracy: 0.9885 - loss: 0.0403 - val_accuracy: 0.9838 - val_loss: 0.0602\n",
      "Epoch 13/50\n",
      "\u001b[1m37800/37800\u001b[0m \u001b[32m━━━━━━━━━━━━━━━━━━━━\u001b[0m\u001b[37m\u001b[0m \u001b[1m97s\u001b[0m 3ms/step - accuracy: 0.9883 - loss: 0.0430 - val_accuracy: 0.9888 - val_loss: 0.0356\n",
      "Epoch 14/50\n",
      "\u001b[1m37800/37800\u001b[0m \u001b[32m━━━━━━━━━━━━━━━━━━━━\u001b[0m\u001b[37m\u001b[0m \u001b[1m142s\u001b[0m 3ms/step - accuracy: 0.9885 - loss: 0.0416 - val_accuracy: 0.9850 - val_loss: 0.0617\n",
      "Epoch 15/50\n",
      "\u001b[1m37800/37800\u001b[0m \u001b[32m━━━━━━━━━━━━━━━━━━━━\u001b[0m\u001b[37m\u001b[0m \u001b[1m142s\u001b[0m 3ms/step - accuracy: 0.9892 - loss: 0.0394 - val_accuracy: 0.9845 - val_loss: 0.0447\n",
      "Epoch 16/50\n",
      "\u001b[1m37800/37800\u001b[0m \u001b[32m━━━━━━━━━━━━━━━━━━━━\u001b[0m\u001b[37m\u001b[0m \u001b[1m97s\u001b[0m 3ms/step - accuracy: 0.9893 - loss: 0.0402 - val_accuracy: 0.9871 - val_loss: 0.0500\n",
      "Epoch 17/50\n",
      "\u001b[1m37800/37800\u001b[0m \u001b[32m━━━━━━━━━━━━━━━━━━━━\u001b[0m\u001b[37m\u001b[0m \u001b[1m97s\u001b[0m 3ms/step - accuracy: 0.9898 - loss: 0.0379 - val_accuracy: 0.9895 - val_loss: 0.0414\n",
      "Epoch 18/50\n",
      "\u001b[1m37800/37800\u001b[0m \u001b[32m━━━━━━━━━━━━━━━━━━━━\u001b[0m\u001b[37m\u001b[0m \u001b[1m99s\u001b[0m 3ms/step - accuracy: 0.9898 - loss: 0.0398 - val_accuracy: 0.9869 - val_loss: 0.0397\n",
      "Epoch 19/50\n",
      "\u001b[1m37800/37800\u001b[0m \u001b[32m━━━━━━━━━━━━━━━━━━━━\u001b[0m\u001b[37m\u001b[0m \u001b[1m140s\u001b[0m 3ms/step - accuracy: 0.9893 - loss: 0.0418 - val_accuracy: 0.9886 - val_loss: 0.0443\n",
      "Epoch 20/50\n",
      "\u001b[1m37800/37800\u001b[0m \u001b[32m━━━━━━━━━━━━━━━━━━━━\u001b[0m\u001b[37m\u001b[0m \u001b[1m144s\u001b[0m 3ms/step - accuracy: 0.9893 - loss: 0.0402 - val_accuracy: 0.9879 - val_loss: 0.0450\n",
      "Epoch 21/50\n",
      "\u001b[1m37800/37800\u001b[0m \u001b[32m━━━━━━━━━━━━━━━━━━━━\u001b[0m\u001b[37m\u001b[0m \u001b[1m97s\u001b[0m 3ms/step - accuracy: 0.9896 - loss: 0.0394 - val_accuracy: 0.9869 - val_loss: 0.0587\n",
      "Epoch 22/50\n",
      "\u001b[1m37800/37800\u001b[0m \u001b[32m━━━━━━━━━━━━━━━━━━━━\u001b[0m\u001b[37m\u001b[0m \u001b[1m97s\u001b[0m 3ms/step - accuracy: 0.9902 - loss: 0.0410 - val_accuracy: 0.9898 - val_loss: 0.0452\n",
      "Epoch 23/50\n",
      "\u001b[1m37800/37800\u001b[0m \u001b[32m━━━━━━━━━━━━━━━━━━━━\u001b[0m\u001b[37m\u001b[0m \u001b[1m144s\u001b[0m 3ms/step - accuracy: 0.9900 - loss: 0.0387 - val_accuracy: 0.9895 - val_loss: 0.0373\n",
      "Epoch 24/50\n",
      "\u001b[1m37800/37800\u001b[0m \u001b[32m━━━━━━━━━━━━━━━━━━━━\u001b[0m\u001b[37m\u001b[0m \u001b[1m140s\u001b[0m 3ms/step - accuracy: 0.9894 - loss: 0.0426 - val_accuracy: 0.9860 - val_loss: 0.0721\n",
      "Epoch 25/50\n",
      "\u001b[1m37800/37800\u001b[0m \u001b[32m━━━━━━━━━━━━━━━━━━━━\u001b[0m\u001b[37m\u001b[0m \u001b[1m142s\u001b[0m 3ms/step - accuracy: 0.9904 - loss: 0.0408 - val_accuracy: 0.9879 - val_loss: 0.0526\n",
      "Epoch 26/50\n",
      "\u001b[1m37800/37800\u001b[0m \u001b[32m━━━━━━━━━━━━━━━━━━━━\u001b[0m\u001b[37m\u001b[0m \u001b[1m144s\u001b[0m 3ms/step - accuracy: 0.9901 - loss: 0.0396 - val_accuracy: 0.9857 - val_loss: 0.0431\n",
      "Epoch 27/50\n",
      "\u001b[1m37800/37800\u001b[0m \u001b[32m━━━━━━━━━━━━━━━━━━━━\u001b[0m\u001b[37m\u001b[0m \u001b[1m142s\u001b[0m 3ms/step - accuracy: 0.9899 - loss: 0.0411 - val_accuracy: 0.9898 - val_loss: 0.0421\n",
      "Epoch 28/50\n",
      "\u001b[1m37800/37800\u001b[0m \u001b[32m━━━━━━━━━━━━━━━━━━━━\u001b[0m\u001b[37m\u001b[0m \u001b[1m142s\u001b[0m 3ms/step - accuracy: 0.9897 - loss: 0.0414 - val_accuracy: 0.9900 - val_loss: 0.0413\n",
      "Epoch 29/50\n",
      "\u001b[1m37800/37800\u001b[0m \u001b[32m━━━━━━━━━━━━━━━━━━━━\u001b[0m\u001b[37m\u001b[0m \u001b[1m140s\u001b[0m 3ms/step - accuracy: 0.9905 - loss: 0.0382 - val_accuracy: 0.9893 - val_loss: 0.0382\n",
      "Epoch 30/50\n",
      "\u001b[1m37800/37800\u001b[0m \u001b[32m━━━━━━━━━━━━━━━━━━━━\u001b[0m\u001b[37m\u001b[0m \u001b[1m98s\u001b[0m 3ms/step - accuracy: 0.9906 - loss: 0.0375 - val_accuracy: 0.9895 - val_loss: 0.0664\n",
      "Epoch 31/50\n",
      "\u001b[1m37800/37800\u001b[0m \u001b[32m━━━━━━━━━━━━━━━━━━━━\u001b[0m\u001b[37m\u001b[0m \u001b[1m98s\u001b[0m 3ms/step - accuracy: 0.9903 - loss: 0.0413 - val_accuracy: 0.9890 - val_loss: 0.0524\n",
      "Epoch 32/50\n",
      "\u001b[1m37800/37800\u001b[0m \u001b[32m━━━━━━━━━━━━━━━━━━━━\u001b[0m\u001b[37m\u001b[0m \u001b[1m100s\u001b[0m 3ms/step - accuracy: 0.9902 - loss: 0.0403 - val_accuracy: 0.9895 - val_loss: 0.0524\n",
      "Epoch 33/50\n",
      "\u001b[1m37800/37800\u001b[0m \u001b[32m━━━━━━━━━━━━━━━━━━━━\u001b[0m\u001b[37m\u001b[0m \u001b[1m98s\u001b[0m 3ms/step - accuracy: 0.9902 - loss: 0.0402 - val_accuracy: 0.9893 - val_loss: 0.0450\n",
      "Epoch 34/50\n",
      "\u001b[1m37800/37800\u001b[0m \u001b[32m━━━━━━━━━━━━━━━━━━━━\u001b[0m\u001b[37m\u001b[0m \u001b[1m98s\u001b[0m 3ms/step - accuracy: 0.9905 - loss: 0.0388 - val_accuracy: 0.9871 - val_loss: 0.0604\n",
      "Epoch 35/50\n",
      "\u001b[1m37800/37800\u001b[0m \u001b[32m━━━━━━━━━━━━━━━━━━━━\u001b[0m\u001b[37m\u001b[0m \u001b[1m100s\u001b[0m 3ms/step - accuracy: 0.9907 - loss: 0.0377 - val_accuracy: 0.9900 - val_loss: 0.0373\n",
      "Epoch 36/50\n",
      "\u001b[1m37800/37800\u001b[0m \u001b[32m━━━━━━━━━━━━━━━━━━━━\u001b[0m\u001b[37m\u001b[0m \u001b[1m140s\u001b[0m 3ms/step - accuracy: 0.9902 - loss: 0.0405 - val_accuracy: 0.9836 - val_loss: 0.0512\n",
      "Epoch 37/50\n",
      "\u001b[1m37800/37800\u001b[0m \u001b[32m━━━━━━━━━━━━━━━━━━━━\u001b[0m\u001b[37m\u001b[0m \u001b[1m102s\u001b[0m 3ms/step - accuracy: 0.9901 - loss: 0.0425 - val_accuracy: 0.9876 - val_loss: 0.0665\n",
      "Epoch 38/50\n",
      "\u001b[1m37800/37800\u001b[0m \u001b[32m━━━━━━━━━━━━━━━━━━━━\u001b[0m\u001b[37m\u001b[0m \u001b[1m140s\u001b[0m 3ms/step - accuracy: 0.9904 - loss: 0.0409 - val_accuracy: 0.9888 - val_loss: 0.0449\n",
      "Epoch 39/50\n",
      "\u001b[1m37800/37800\u001b[0m \u001b[32m━━━━━━━━━━━━━━━━━━━━\u001b[0m\u001b[37m\u001b[0m \u001b[1m100s\u001b[0m 3ms/step - accuracy: 0.9898 - loss: 0.0412 - val_accuracy: 0.9876 - val_loss: 0.0655\n",
      "Epoch 40/50\n",
      "\u001b[1m37800/37800\u001b[0m \u001b[32m━━━━━━━━━━━━━━━━━━━━\u001b[0m\u001b[37m\u001b[0m \u001b[1m144s\u001b[0m 3ms/step - accuracy: 0.9908 - loss: 0.0393 - val_accuracy: 0.9898 - val_loss: 0.0471\n",
      "Epoch 41/50\n",
      "\u001b[1m37800/37800\u001b[0m \u001b[32m━━━━━━━━━━━━━━━━━━━━\u001b[0m\u001b[37m\u001b[0m \u001b[1m99s\u001b[0m 3ms/step - accuracy: 0.9903 - loss: 0.0404 - val_accuracy: 0.9900 - val_loss: 0.0456\n",
      "Epoch 42/50\n",
      "\u001b[1m37800/37800\u001b[0m \u001b[32m━━━━━━━━━━━━━━━━━━━━\u001b[0m\u001b[37m\u001b[0m \u001b[1m100s\u001b[0m 3ms/step - accuracy: 0.9910 - loss: 0.0356 - val_accuracy: 0.9910 - val_loss: 0.0450\n",
      "Epoch 43/50\n",
      "\u001b[1m37800/37800\u001b[0m \u001b[32m━━━━━━━━━━━━━━━━━━━━\u001b[0m\u001b[37m\u001b[0m \u001b[1m99s\u001b[0m 3ms/step - accuracy: 0.9906 - loss: 0.0378 - val_accuracy: 0.9912 - val_loss: 0.0371\n",
      "Epoch 44/50\n",
      "\u001b[1m37800/37800\u001b[0m \u001b[32m━━━━━━━━━━━━━━━━━━━━\u001b[0m\u001b[37m\u001b[0m \u001b[1m144s\u001b[0m 3ms/step - accuracy: 0.9911 - loss: 0.0360 - val_accuracy: 0.9883 - val_loss: 0.0425\n",
      "Epoch 45/50\n",
      "\u001b[1m37800/37800\u001b[0m \u001b[32m━━━━━━━━━━━━━━━━━━━━\u001b[0m\u001b[37m\u001b[0m \u001b[1m100s\u001b[0m 3ms/step - accuracy: 0.9912 - loss: 0.0383 - val_accuracy: 0.9898 - val_loss: 0.0371\n",
      "Epoch 46/50\n",
      "\u001b[1m37800/37800\u001b[0m \u001b[32m━━━━━━━━━━━━━━━━━━━━\u001b[0m\u001b[37m\u001b[0m \u001b[1m142s\u001b[0m 3ms/step - accuracy: 0.9911 - loss: 0.0370 - val_accuracy: 0.9907 - val_loss: 0.0614\n",
      "Epoch 47/50\n",
      "\u001b[1m37800/37800\u001b[0m \u001b[32m━━━━━━━━━━━━━━━━━━━━\u001b[0m\u001b[37m\u001b[0m \u001b[1m102s\u001b[0m 3ms/step - accuracy: 0.9907 - loss: 0.0393 - val_accuracy: 0.9879 - val_loss: 0.0491\n",
      "Epoch 48/50\n",
      "\u001b[1m37800/37800\u001b[0m \u001b[32m━━━━━━━━━━━━━━━━━━━━\u001b[0m\u001b[37m\u001b[0m \u001b[1m100s\u001b[0m 3ms/step - accuracy: 0.9913 - loss: 0.0373 - val_accuracy: 0.9910 - val_loss: 0.0316\n",
      "Epoch 49/50\n",
      "\u001b[1m37800/37800\u001b[0m \u001b[32m━━━━━━━━━━━━━━━━━━━━\u001b[0m\u001b[37m\u001b[0m \u001b[1m141s\u001b[0m 3ms/step - accuracy: 0.9910 - loss: 0.0369 - val_accuracy: 0.9798 - val_loss: 0.0795\n",
      "Epoch 50/50\n",
      "\u001b[1m37800/37800\u001b[0m \u001b[32m━━━━━━━━━━━━━━━━━━━━\u001b[0m\u001b[37m\u001b[0m \u001b[1m143s\u001b[0m 3ms/step - accuracy: 0.9900 - loss: 0.0388 - val_accuracy: 0.9864 - val_loss: 0.0683\n"
     ]
    }
   ],
   "source": [
    "#Step 2 :  Classification -- model \n",
    "#Step 3 :  Regression -- model .fit()\n",
    "\n",
    "#By using fit_generator, the model will train using the data generated by the specified generators (batches for training and val_batches for validation)\n",
    "# history=model.fit_generator(generator=batches, steps_per_epoch=batches.n, epochs=50,\n",
    "history=model.fit(x=batches, steps_per_epoch=batches.n, epochs=50,\n",
    "                    validation_data=val_batches, validation_steps=val_batches.n)"
   ]
  },
  {
   "cell_type": "code",
   "execution_count": 15,
   "id": "2e193628",
   "metadata": {
    "execution": {
     "iopub.execute_input": "2024-03-09T05:26:50.217208Z",
     "iopub.status.busy": "2024-03-09T05:26:50.216770Z",
     "iopub.status.idle": "2024-03-09T05:26:50.223709Z",
     "shell.execute_reply": "2024-03-09T05:26:50.222706Z"
    },
    "papermill": {
     "duration": 2.926166,
     "end_time": "2024-03-09T05:26:50.225991",
     "exception": false,
     "start_time": "2024-03-09T05:26:47.299825",
     "status": "completed"
    },
    "tags": []
   },
   "outputs": [
    {
     "data": {
      "text/plain": [
       "dict_keys(['accuracy', 'loss', 'val_accuracy', 'val_loss'])"
      ]
     },
     "execution_count": 15,
     "metadata": {},
     "output_type": "execute_result"
    }
   ],
   "source": [
    "history.history.keys()\n",
    "#expected dict_keys(['loss', 'accuracy', 'val_loss', 'val_accuracy'])"
   ]
  },
  {
   "cell_type": "code",
   "execution_count": 16,
   "id": "dd75a783",
   "metadata": {
    "execution": {
     "iopub.execute_input": "2024-03-09T05:26:56.396627Z",
     "iopub.status.busy": "2024-03-09T05:26:56.396196Z",
     "iopub.status.idle": "2024-03-09T05:26:56.697629Z",
     "shell.execute_reply": "2024-03-09T05:26:56.696135Z"
    },
    "papermill": {
     "duration": 3.485598,
     "end_time": "2024-03-09T05:26:56.700872",
     "exception": false,
     "start_time": "2024-03-09T05:26:53.215274",
     "status": "completed"
    },
    "tags": []
   },
   "outputs": [
    {
     "data": {
      "image/png": "[encoded data removed]",
      "text/plain": [
       "<Figure size 640x480 with 1 Axes>"
      ]
     },
     "metadata": {},
     "output_type": "display_data"
    }
   ],
   "source": [
    "#Step 1 :  (Data Preprocessing/Feature Extraction) -- history \n",
    "#Step 2 :  Classification -- loss,val_loss \n",
    "#Step 3 :  Regression -- loss,val_loss   \n",
    "#Step 4 :  Dimensionality Reduction -- epochs   \n",
    "\n",
    "import matplotlib.pyplot as plt\n",
    "\n",
    "# visualize the Mean Squared Error (MSE) values during training and validation epochs\n",
    "# Assuming 'history' is the result from the fit function\n",
    "# And it contains 'mse' as a metric. If it's not the case, replace 'mse' and 'val_mse' with 'accuracy' and 'val_accuracy'\n",
    "\n",
    "mse = history.history['loss']\n",
    "val_mse = history.history['loss']\n",
    "\n",
    "epochs = range(1, len(mse) + 1)\n",
    "\n",
    "plt.plot(epochs, mse, 'bo', label='Training MSE')\n",
    "plt.plot(epochs, val_mse, 'b', label='Validation MSE')\n",
    "plt.title('Training and Validation MSE')\n",
    "plt.xlabel('Epochs')\n",
    "plt.ylabel('MSE')\n",
    "plt.legend()\n",
    "\n",
    "plt.show()\n"
   ]
  },
  {
   "cell_type": "code",
   "execution_count": 17,
   "id": "0b20e810",
   "metadata": {
    "execution": {
     "iopub.execute_input": "2024-03-09T05:27:02.680897Z",
     "iopub.status.busy": "2024-03-09T05:27:02.680366Z",
     "iopub.status.idle": "2024-03-09T05:27:23.002552Z",
     "shell.execute_reply": "2024-03-09T05:27:23.001103Z"
    },
    "papermill": {
     "duration": 23.410987,
     "end_time": "2024-03-09T05:27:23.005675",
     "exception": false,
     "start_time": "2024-03-09T05:26:59.594688",
     "status": "completed"
    },
    "tags": []
   },
   "outputs": [],
   "source": [
    "#Step 2 :  Classification -- model.predict \n",
    "#Step 4 :  Ensemble -- np.argmax(prediction, axis=-1)   \n",
    "\n",
    "#making predictions using a trained Keras model \n",
    "prediction=model.predict(X_test,verbose=0) # verbose = 0 , means not print any intermediate information\n",
    "predictions = np.argmax(prediction, axis=-1) # Setting axis=-1 means that the maximum value is computed along the last axis of the array\n",
    "pred=pd.Series(predictions)\n",
    "submission=pd.read_csv('/kaggle/input/digit-recognizer/sample_submission.csv')\n",
    "submission['Label']=pred\n",
    "submission.to_csv(\"submission.csv\",index=False)"
   ]
  }
 ],
 "metadata": {
  "kaggle": {
   "accelerator": "none",
   "dataSources": [
    {
     "databundleVersionId": 861823,
     "sourceId": 3004,
     "sourceType": "competition"
    }
   ],
   "dockerImageVersionId": 30664,
   "isGpuEnabled": false,
   "isInternetEnabled": true,
   "language": "python",
   "sourceType": "notebook"
  },
  "kernelspec": {
   "display_name": "Python 3",
   "language": "python",
   "name": "python3"
  },
  "language_info": {
   "codemirror_mode": {
    "name": "ipython",
    "version": 3
   },
   "file_extension": ".py",
   "mimetype": "text/x-python",
   "name": "python",
   "nbconvert_exporter": "python",
   "pygments_lexer": "ipython3",
   "version": "3.10.13"
  },
  "papermill": {
   "default_parameters": {},
   "duration": 6044.899932,
   "end_time": "2024-03-09T05:27:28.871532",
   "environment_variables": {},
   "exception": null,
   "input_path": "__notebook__.ipynb",
   "output_path": "__notebook__.ipynb",
   "parameters": {},
   "start_time": "2024-03-09T03:46:43.971600",
   "version": "2.5.0"
  }
 },
 "nbformat": 4,
 "nbformat_minor": 5
}
